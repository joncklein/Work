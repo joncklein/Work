{
 "cells": [
  {
   "cell_type": "code",
   "execution_count": null,
   "metadata": {
    "collapsed": true
   },
   "outputs": [],
   "source": [
    "#import libraries\n",
    "import numpy as np\n",
    "import pandas as pd\n",
    "import csv"
   ]
  },
  {
   "cell_type": "code",
   "execution_count": null,
   "metadata": {
    "collapsed": false
   },
   "outputs": [],
   "source": [
    "data = pd.read_csv(\"D:/Users/jklein/Downloads/CSV_Organic_Alert_Report_Aug-11-17_05-13-AM-55.csv\",usecols = ['Keyword','Destination URL'], engine = 'python')"
   ]
  },
  {
   "cell_type": "code",
   "execution_count": null,
   "metadata": {
    "collapsed": false,
    "scrolled": false
   },
   "outputs": [],
   "source": [
    "#import data\n",
    "data1 = pd.read_csv(\"D:/Users/jklein/Downloads/CSV_Organic_Alert_Report_Aug-06-17_05-13-AM-01.csv\",usecols = ['Keyword','Destination URL'], engine = 'python')\n",
    "data2 = pd.read_csv(\"D:/Users/jklein/Downloads/CSV_Organic_Alert_Report_Aug-05-17_05-31-AM-27.csv\",usecols = ['Keyword','Destination URL'], engine = 'python')\n",
    "data3 = pd.read_csv(\"D:/Users/jklein/Downloads/CSV_Organic_Alert_Report_Aug-07-17_05-16-AM-11.csv\",usecols = ['Keyword','Destination URL'], engine = 'python')"
   ]
  },
  {
   "cell_type": "code",
   "execution_count": null,
   "metadata": {
    "collapsed": false
   },
   "outputs": [],
   "source": [
    "cumulative"
   ]
  },
  {
   "cell_type": "code",
   "execution_count": null,
   "metadata": {
    "collapsed": true
   },
   "outputs": [],
   "source": [
    "data['Date'] = '11/08/2017'"
   ]
  },
  {
   "cell_type": "code",
   "execution_count": null,
   "metadata": {
    "collapsed": false
   },
   "outputs": [],
   "source": [
    "#set date\n",
    "data1['Date'] = '06/08/2017'\n",
    "data2['Date'] = '05/08/2017'\n",
    "data3['Date'] = '07/08/2017'"
   ]
  },
  {
   "cell_type": "code",
   "execution_count": null,
   "metadata": {
    "collapsed": false
   },
   "outputs": [],
   "source": [
    "#merge all data files into one dataframe\n",
    "combine = data1.append([data2, data3])\n",
    "data = combine.reindex(columns=['Date','Keyword','Destination URL'])\n",
    "data"
   ]
  },
  {
   "cell_type": "code",
   "execution_count": null,
   "metadata": {
    "collapsed": false
   },
   "outputs": [],
   "source": [
    "#set the products from keywords\n",
    "products = pd.read_csv(\"D:/Users/jklein/Documents/BSA Products/BSA Products Autodesk.csv\", sep=',')\n",
    "product_replacer = products.set_index('Keyword')['Product Category'].to_dict()\n",
    "data['Product'] = data['Keyword']\n",
    "for key in product_replacer:\n",
    "    data['Product'] = data['Product'].replace(key,product_replacer.get(key))"
   ]
  },
  {
   "cell_type": "code",
   "execution_count": null,
   "metadata": {
    "collapsed": false
   },
   "outputs": [],
   "source": [
    "#remove duplicates\n",
    "data.drop_duplicates(['Destination URL', 'Product'], inplace = True)"
   ]
  },
  {
   "cell_type": "code",
   "execution_count": null,
   "metadata": {
    "collapsed": false
   },
   "outputs": [],
   "source": [
    "data.shape"
   ]
  },
  {
   "cell_type": "code",
   "execution_count": null,
   "metadata": {
    "collapsed": false
   },
   "outputs": [],
   "source": [
    "#extract entries with duplicated URLS\n",
    "dupes = data[data.duplicated('Destination URL', keep = False)]\n",
    "dupes.sort_values('Destination URL', inplace = True)"
   ]
  },
  {
   "cell_type": "code",
   "execution_count": null,
   "metadata": {
    "collapsed": false
   },
   "outputs": [],
   "source": [
    "dupes"
   ]
  },
  {
   "cell_type": "code",
   "execution_count": null,
   "metadata": {
    "collapsed": false
   },
   "outputs": [],
   "source": [
    "#extract URLS with multiple product entries as a dictionary\n",
    "grouped = dupes.groupby('Destination URL')['Product'].apply(list)\n",
    "grouped = grouped.to_dict()\n",
    "grouped"
   ]
  },
  {
   "cell_type": "code",
   "execution_count": null,
   "metadata": {
    "collapsed": false
   },
   "outputs": [],
   "source": [
    "dupes"
   ]
  },
  {
   "cell_type": "code",
   "execution_count": null,
   "metadata": {
    "collapsed": false
   },
   "outputs": [],
   "source": [
    "import string\n",
    "#bring multiple products into 1 field\n",
    "\n",
    "translator = str.maketrans('', '', '!\"#$%&\\'[\\\\]^_`{|}~')\n",
    "dupes['Product2'] = dupes['Destination URL']\n",
    "for key in grouped:\n",
    "    dupes['Product2'] = dupes['Product2'].replace(key,str(grouped.get(key)).translate(translator))"
   ]
  },
  {
   "cell_type": "code",
   "execution_count": null,
   "metadata": {
    "collapsed": false
   },
   "outputs": [],
   "source": [
    "dupes['Product'] = dupes['Product2']\n",
    "dupes.drop(['Product2'],axis = 1, inplace = True)\n",
    "dupes"
   ]
  },
  {
   "cell_type": "code",
   "execution_count": null,
   "metadata": {
    "collapsed": false
   },
   "outputs": [],
   "source": [
    "dupes.drop_duplicates(['Destination URL', 'Product'], inplace = True)"
   ]
  },
  {
   "cell_type": "code",
   "execution_count": null,
   "metadata": {
    "collapsed": false
   },
   "outputs": [],
   "source": [
    "print(dupes.shape, data.shape)"
   ]
  },
  {
   "cell_type": "code",
   "execution_count": null,
   "metadata": {
    "collapsed": false
   },
   "outputs": [],
   "source": [
    "data.drop_duplicates(['Destination URL'], keep = False, inplace = True)\n",
    "data = data.append(dupes)\n",
    "data.shape"
   ]
  },
  {
   "cell_type": "code",
   "execution_count": null,
   "metadata": {
    "collapsed": true
   },
   "outputs": [],
   "source": [
    "data.to_csv(\"D:/Users/jklein/Documents/BSA Autodesk 08-08 pre white.csv\", sep=',',\n",
    "            na_rep='n/a', index=False, encoding='utf-8')"
   ]
  },
  {
   "cell_type": "code",
   "execution_count": null,
   "metadata": {
    "collapsed": false
   },
   "outputs": [],
   "source": [
    "whitelist = pd.read_excel(\"D:/Users/jklein/Downloads/whitelist.xlsx\",)\n",
    "whitelist"
   ]
  },
  {
   "cell_type": "code",
   "execution_count": null,
   "metadata": {
    "collapsed": false
   },
   "outputs": [],
   "source": [
    "sites = list(whitelist['Sites'])\n",
    "sites = set(sites)\n",
    "sites"
   ]
  },
  {
   "cell_type": "code",
   "execution_count": null,
   "metadata": {
    "collapsed": false
   },
   "outputs": [],
   "source": []
  },
  {
   "cell_type": "code",
   "execution_count": null,
   "metadata": {
    "collapsed": false
   },
   "outputs": [],
   "source": [
    "pattern = '|'.join(sites)\n",
    "links = data[~data['Destination URL'].str.contains(pattern)]\n",
    "links"
   ]
  },
  {
   "cell_type": "code",
   "execution_count": null,
   "metadata": {
    "collapsed": false
   },
   "outputs": [],
   "source": [
    "data"
   ]
  },
  {
   "cell_type": "code",
   "execution_count": null,
   "metadata": {
    "collapsed": false
   },
   "outputs": [],
   "source": [
    "links.shape"
   ]
  },
  {
   "cell_type": "code",
   "execution_count": null,
   "metadata": {
    "collapsed": false
   },
   "outputs": [],
   "source": [
    "links.to_csv(\"D:/Users/jklein/Documents/BSA Autodesk 10-08.csv\", sep=',',\n",
    "            na_rep='n/a', index=False, encoding='utf-8')"
   ]
  },
  {
   "cell_type": "code",
   "execution_count": null,
   "metadata": {
    "collapsed": false
   },
   "outputs": [],
   "source": [
    "cumulative = pd.read_excel(\"D:/Users/jklein/Documents/BSA Autodesk Cumulative.xlsx\",na_values = 'n/a')"
   ]
  },
  {
   "cell_type": "code",
   "execution_count": null,
   "metadata": {
    "collapsed": false
   },
   "outputs": [],
   "source": [
    "cumulative2 = cumulative.append(links)"
   ]
  },
  {
   "cell_type": "code",
   "execution_count": null,
   "metadata": {
    "collapsed": false
   },
   "outputs": [],
   "source": [
    "cumulative2.drop_duplicates(['Destination URL', 'Product'], inplace = True, keep = 'first')"
   ]
  },
  {
   "cell_type": "code",
   "execution_count": null,
   "metadata": {
    "collapsed": false
   },
   "outputs": [],
   "source": [
    "cumulative2"
   ]
  },
  {
   "cell_type": "code",
   "execution_count": null,
   "metadata": {
    "collapsed": true
   },
   "outputs": [],
   "source": [
    "writer = pd.ExcelWriter(\"D:/Users/jklein/Documents/BSA Autodesk Cumulative.xlsx\",\n",
    "                        engine='xlsxwriter', datetime_format='dd/mm/yy', date_format='dd/mm/yy')\n",
    "cumulative2.to_excel(writer,'Data', na_rep = 'n/a', index = False, engine='xlsxwriter')\n",
    "\n",
    "\n",
    "workbook  = writer.book\n",
    "worksheet1 = writer.sheets['Data']\n",
    "\n",
    "date_format = workbook.add_format({'num_format': 'dd/mm/yy',\n",
    "                                      'align': 'left'})\n",
    "worksheet1.set_column('A:A', None, date_format)\n",
    "\n",
    "# Close the Pandas Excel writer and output the Excel file.\n",
    "writer.save()"
   ]
  },
  {
   "cell_type": "code",
   "execution_count": null,
   "metadata": {
    "collapsed": true
   },
   "outputs": [],
   "source": [
    "cumulative2.to_csv(\"D:/Users/jklein/Documents/BSA Autodesk Cumulative 11-08.csv\", sep=',',\n",
    "            na_rep='n/a', index=False, encoding='utf-8')"
   ]
  },
  {
   "cell_type": "code",
   "execution_count": null,
   "metadata": {
    "collapsed": true
   },
   "outputs": [],
   "source": []
  }
 ],
 "metadata": {
  "kernelspec": {
   "display_name": "Python 3",
   "language": "python",
   "name": "python3"
  },
  "language_info": {
   "codemirror_mode": {
    "name": "ipython",
    "version": 3
   },
   "file_extension": ".py",
   "mimetype": "text/x-python",
   "name": "python",
   "nbconvert_exporter": "python",
   "pygments_lexer": "ipython3",
   "version": "3.6.0"
  }
 },
 "nbformat": 4,
 "nbformat_minor": 2
}
